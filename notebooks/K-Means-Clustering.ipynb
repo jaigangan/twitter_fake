{
  "cells": [
    {
      "cell_type": "code",
      "execution_count": 5,
      "metadata": {
        "id": "rOSXcxc9R7Rb"
      },
      "outputs": [],
      "source": [
        "import pandas as pd\n",
        "import numpy as np\n",
        "from sklearn.cluster import KMeans\n",
        "from sklearn.preprocessing import LabelEncoder\n",
        "from sklearn.preprocessing import MinMaxScaler\n",
        "from sklearn.model_selection import train_test_split \n",
        "from sklearn.metrics import confusion_matrix, accuracy_score\n",
        "import matplotlib.pyplot as plt\n",
        "from sklearn.decomposition import PCA\n",
        "import pylab as pl"
      ]
    },
    {
      "cell_type": "code",
      "execution_count": 6,
      "metadata": {
        "colab": {
          "base_uri": "https://localhost:8080/",
          "height": 206
        },
        "id": "p3cGIVnYR8Dj",
        "outputId": "6457b821-a775-4a5f-ad25-4e0ca29e90f6"
      },
      "outputs": [
        {
          "data": {
            "text/html": [
              "<div>\n",
              "<style scoped>\n",
              "    .dataframe tbody tr th:only-of-type {\n",
              "        vertical-align: middle;\n",
              "    }\n",
              "\n",
              "    .dataframe tbody tr th {\n",
              "        vertical-align: top;\n",
              "    }\n",
              "\n",
              "    .dataframe thead th {\n",
              "        text-align: right;\n",
              "    }\n",
              "</style>\n",
              "<table border=\"1\" class=\"dataframe\">\n",
              "  <thead>\n",
              "    <tr style=\"text-align: right;\">\n",
              "      <th></th>\n",
              "      <th>name_wt</th>\n",
              "      <th>statuses_count</th>\n",
              "      <th>followers_count</th>\n",
              "      <th>friends_count</th>\n",
              "      <th>favourites_count</th>\n",
              "      <th>listed_count</th>\n",
              "      <th>label</th>\n",
              "    </tr>\n",
              "  </thead>\n",
              "  <tbody>\n",
              "    <tr>\n",
              "      <th>0</th>\n",
              "      <td>0.600000</td>\n",
              "      <td>195</td>\n",
              "      <td>19</td>\n",
              "      <td>53</td>\n",
              "      <td>58</td>\n",
              "      <td>0</td>\n",
              "      <td>0</td>\n",
              "    </tr>\n",
              "    <tr>\n",
              "      <th>1</th>\n",
              "      <td>0.705882</td>\n",
              "      <td>9</td>\n",
              "      <td>67</td>\n",
              "      <td>555</td>\n",
              "      <td>2</td>\n",
              "      <td>1</td>\n",
              "      <td>0</td>\n",
              "    </tr>\n",
              "    <tr>\n",
              "      <th>2</th>\n",
              "      <td>0.916667</td>\n",
              "      <td>20</td>\n",
              "      <td>21</td>\n",
              "      <td>267</td>\n",
              "      <td>0</td>\n",
              "      <td>0</td>\n",
              "      <td>1</td>\n",
              "    </tr>\n",
              "    <tr>\n",
              "      <th>3</th>\n",
              "      <td>0.500000</td>\n",
              "      <td>28</td>\n",
              "      <td>16</td>\n",
              "      <td>325</td>\n",
              "      <td>0</td>\n",
              "      <td>0</td>\n",
              "      <td>1</td>\n",
              "    </tr>\n",
              "    <tr>\n",
              "      <th>4</th>\n",
              "      <td>0.733333</td>\n",
              "      <td>45</td>\n",
              "      <td>20</td>\n",
              "      <td>515</td>\n",
              "      <td>0</td>\n",
              "      <td>0</td>\n",
              "      <td>1</td>\n",
              "    </tr>\n",
              "  </tbody>\n",
              "</table>\n",
              "</div>"
            ],
            "text/plain": [
              "    name_wt  statuses_count  followers_count  friends_count  favourites_count  \\\n",
              "0  0.600000             195               19             53                58   \n",
              "1  0.705882               9               67            555                 2   \n",
              "2  0.916667              20               21            267                 0   \n",
              "3  0.500000              28               16            325                 0   \n",
              "4  0.733333              45               20            515                 0   \n",
              "\n",
              "   listed_count  label  \n",
              "0             0      0  \n",
              "1             1      0  \n",
              "2             0      1  \n",
              "3             0      1  \n",
              "4             0      1  "
            ]
          },
          "execution_count": 6,
          "metadata": {},
          "output_type": "execute_result"
        }
      ],
      "source": [
        "dataset = pd.read_csv('C:/Users/SUPRITH KS\\Documents/Visual Studio/Projects/twitterf-main/data/twitter_dataset.csv', encoding = 'latin-1')\n",
        "dataset.head()"
      ]
    },
    {
      "cell_type": "markdown",
      "metadata": {
        "id": "2ccY5MsXSmD0"
      },
      "source": [
        "## CREATE NEW DATASET WITHOUT LABELS"
      ]
    },
    {
      "cell_type": "code",
      "execution_count": 7,
      "metadata": {
        "colab": {
          "base_uri": "https://localhost:8080/"
        },
        "id": "U7M3-C-zSnd-",
        "outputId": "432bf58f-2f3e-4331-a29e-5df9ce6643c5"
      },
      "outputs": [
        {
          "data": {
            "text/plain": [
              "['name_wt',\n",
              " 'statuses_count',\n",
              " 'followers_count',\n",
              " 'friends_count',\n",
              " 'favourites_count',\n",
              " 'listed_count']"
            ]
          },
          "execution_count": 7,
          "metadata": {},
          "output_type": "execute_result"
        }
      ],
      "source": [
        "features=[]\n",
        "for attributes in dataset.columns:\n",
        "    if attributes != 'label':\n",
        "        features.append(attributes)\n",
        "features"
      ]
    },
    {
      "cell_type": "code",
      "execution_count": 8,
      "metadata": {
        "colab": {
          "base_uri": "https://localhost:8080/"
        },
        "id": "81NEsRxXSrNj",
        "outputId": "1ebfd26b-928b-4578-f0d2-462027486ffc"
      },
      "outputs": [
        {
          "data": {
            "text/plain": [
              "array([0, 0, 1, ..., 0, 0, 1], dtype=int64)"
            ]
          },
          "execution_count": 8,
          "metadata": {},
          "output_type": "execute_result"
        }
      ],
      "source": [
        "y = np.array(dataset['label'])\n",
        "y"
      ]
    },
    {
      "cell_type": "code",
      "execution_count": 9,
      "metadata": {
        "colab": {
          "base_uri": "https://localhost:8080/"
        },
        "id": "OooyVtdgSv7z",
        "outputId": "5b834db1-72bf-40ce-e579-687d380b7c6d"
      },
      "outputs": [
        {
          "name": "stderr",
          "output_type": "stream",
          "text": [
            "C:\\Users\\SUPRITH KS\\AppData\\Local\\Temp\\ipykernel_4472\\2360218033.py:1: FutureWarning: In a future version of pandas all arguments of DataFrame.drop except for the argument 'labels' will be keyword-only.\n",
            "  X = np.array(dataset.drop(['label'], 1).astype(float))\n"
          ]
        },
        {
          "data": {
            "text/plain": [
              "array([[6.00000000e-01, 1.95000000e+02, 1.90000000e+01, 5.30000000e+01,\n",
              "        5.80000000e+01, 0.00000000e+00],\n",
              "       [7.05882353e-01, 9.00000000e+00, 6.70000000e+01, 5.55000000e+02,\n",
              "        2.00000000e+00, 1.00000000e+00],\n",
              "       [9.16666667e-01, 2.00000000e+01, 2.10000000e+01, 2.67000000e+02,\n",
              "        0.00000000e+00, 0.00000000e+00],\n",
              "       ...,\n",
              "       [8.33333333e-01, 1.73000000e+03, 3.81000000e+02, 8.21000000e+02,\n",
              "        2.18000000e+02, 0.00000000e+00],\n",
              "       [8.82352941e-01, 1.53650000e+04, 3.81300000e+03, 1.50500000e+03,\n",
              "        5.50000000e+02, 6.30000000e+01],\n",
              "       [9.33333333e-01, 3.00000000e+00, 0.00000000e+00, 2.40000000e+01,\n",
              "        0.00000000e+00, 0.00000000e+00]])"
            ]
          },
          "execution_count": 9,
          "metadata": {},
          "output_type": "execute_result"
        }
      ],
      "source": [
        "X = np.array(dataset.drop(['label'], 1).astype(float))\n",
        "X"
      ]
    },
    {
      "cell_type": "markdown",
      "metadata": {
        "id": "8lC9sETQS55j"
      },
      "source": [
        "## FIND OPTIMAL NUMBER OF CLUSTERS"
      ]
    },
    {
      "cell_type": "code",
      "execution_count": 10,
      "metadata": {
        "colab": {
          "base_uri": "https://localhost:8080/"
        },
        "id": "oWp6YkPFS6pu",
        "outputId": "17565d7b-e280-4374-f20a-a86ea974512f"
      },
      "outputs": [
        {
          "data": {
            "text/plain": [
              "array([[6.00000000e-01, 2.44128399e-03, 4.65262065e-05, 4.14937759e-03,\n",
              "        1.30780852e-03, 0.00000000e+00],\n",
              "       [7.05882353e-01, 1.12674646e-04, 1.64066097e-04, 4.34510295e-02,\n",
              "        4.50968455e-05, 1.34408602e-03],\n",
              "       [9.16666667e-01, 2.50388102e-04, 5.14237019e-05, 2.09034683e-02,\n",
              "        0.00000000e+00, 0.00000000e+00],\n",
              "       ...,\n",
              "       [8.33333333e-01, 2.16585708e-02, 9.32972878e-04, 6.42762076e-02,\n",
              "        4.91555616e-03, 0.00000000e+00],\n",
              "       [8.82352941e-01, 1.92360659e-01, 9.33707502e-03, 1.17826666e-01,\n",
              "        1.24016325e-02, 8.46774194e-02],\n",
              "       [9.33333333e-01, 3.75582152e-05, 0.00000000e+00, 1.87896344e-03,\n",
              "        0.00000000e+00, 0.00000000e+00]])"
            ]
          },
          "execution_count": 10,
          "metadata": {},
          "output_type": "execute_result"
        }
      ],
      "source": [
        "#normalizing the data\n",
        "scaler = MinMaxScaler()\n",
        "X_scaled = scaler.fit_transform(X)\n",
        "X_scaled"
      ]
    },
    {
      "cell_type": "code",
      "execution_count": 11,
      "metadata": {
        "colab": {
          "base_uri": "https://localhost:8080/",
          "height": 282
        },
        "id": "hDZK75ymS9cY",
        "outputId": "cdb9c3a1-231a-4b9f-f195-ae9c25d07348"
      },
      "outputs": [
        {
          "data": {
            "text/plain": [
              "<matplotlib.collections.PathCollection at 0x20f24cc9f10>"
            ]
          },
          "execution_count": 11,
          "metadata": {},
          "output_type": "execute_result"
        },
        {
          "data": {
            "image/png": "[encoded data removed]",
            "text/plain": [
              "<Figure size 432x288 with 1 Axes>"
            ]
          },
          "metadata": {
            "needs_background": "light"
          },
          "output_type": "display_data"
        }
      ],
      "source": [
        "plt.scatter(X_scaled[:,0],X_scaled[:,1], label='True Position')"
      ]
    },
    {
      "cell_type": "code",
      "execution_count": 12,
      "metadata": {
        "id": "MbxLwm59TBGk"
      },
      "outputs": [],
      "source": [
        "Sum_of_squared_distances = []\n",
        "K = range(1,10)\n",
        "for k in K:\n",
        "    km = KMeans(n_clusters=k)\n",
        "    km = km.fit(X_scaled)\n",
        "    Sum_of_squared_distances.append(km.inertia_)"
      ]
    },
    {
      "cell_type": "code",
      "execution_count": 13,
      "metadata": {
        "colab": {
          "base_uri": "https://localhost:8080/",
          "height": 295
        },
        "id": "45r0rXYmTDiE",
        "outputId": "2befc1e8-cda3-466d-c2a8-72ce5c222657"
      },
      "outputs": [
        {
          "data": {
            "image/png": "[encoded data removed]",
            "text/plain": [
              "<Figure size 432x288 with 1 Axes>"
            ]
          },
          "metadata": {
            "needs_background": "light"
          },
          "output_type": "display_data"
        }
      ],
      "source": [
        "plt.plot(K, Sum_of_squared_distances, 'bx-')\n",
        "plt.xlabel('k')\n",
        "plt.ylabel('Sum_of_squared_distances')\n",
        "plt.title('Elbow Method For Optimal k')\n",
        "plt.show()"
      ]
    },
    {
      "cell_type": "markdown",
      "metadata": {
        "id": "oqXohw_qTJ1r"
      },
      "source": [
        "## PLOT ORIGINAL DATASET USING PCA"
      ]
    },
    {
      "cell_type": "code",
      "execution_count": 14,
      "metadata": {
        "colab": {
          "base_uri": "https://localhost:8080/"
        },
        "id": "V_zuuuaJTGHn",
        "outputId": "05c2dc0e-5869-4217-bfda-18510aec39cf"
      },
      "outputs": [
        {
          "data": {
            "text/plain": [
              "array([[-0.00410681, -0.0260824 ],\n",
              "       [-0.10981591, -0.01337433],\n",
              "       [-0.32059744, -0.01324082],\n",
              "       ...,\n",
              "       [-0.23638205,  0.01729881],\n",
              "       [-0.27965329,  0.20419709],\n",
              "       [-0.33735728, -0.01844731]])"
            ]
          },
          "execution_count": 14,
          "metadata": {},
          "output_type": "execute_result"
        }
      ],
      "source": [
        "#applying PCA on scaled dataset\n",
        "pca = PCA(n_components=2).fit(X_scaled)\n",
        "pca_2d = pca.transform(X_scaled)\n",
        "\n",
        "pca_2d"
      ]
    },
    {
      "cell_type": "code",
      "execution_count": 15,
      "metadata": {
        "colab": {
          "base_uri": "https://localhost:8080/",
          "height": 281
        },
        "id": "uXrB-ZYHTNwO",
        "outputId": "9514b6df-858d-4938-f7e6-1470ab267baf"
      },
      "outputs": [
        {
          "data": {
            "image/png": "[encoded data removed]",
            "text/plain": [
              "<Figure size 432x288 with 1 Axes>"
            ]
          },
          "metadata": {
            "needs_background": "light"
          },
          "output_type": "display_data"
        }
      ],
      "source": [
        "#Plotting original dataset based on lables after applying PCA\n",
        "\n",
        "for i in range(0, pca_2d.shape[0]):\n",
        "    if y[i] == 0:\n",
        "        c1 = pl.scatter(pca_2d[i,0],pca_2d[i,1],c='r',marker='*')\n",
        "    \n",
        "    elif y[i] == 1:\n",
        "        c2 = pl.scatter(pca_2d[i,0],pca_2d[i,1],c='b',marker='+')\n",
        "        \n",
        "pl.legend([c1, c2], ['Genuine', 'Fake'])\n",
        "pl.title('Twitter dataset with 2 clusters and known outcomes')\n",
        "pl.show()"
      ]
    },
    {
      "cell_type": "code",
      "execution_count": 16,
      "metadata": {
        "colab": {
          "base_uri": "https://localhost:8080/"
        },
        "id": "w06bl_DtTP-O",
        "outputId": "23494aaa-09d1-4c7d-c88f-1e58425cd77c"
      },
      "outputs": [
        {
          "data": {
            "text/plain": [
              "(2818, 2)"
            ]
          },
          "execution_count": 16,
          "metadata": {},
          "output_type": "execute_result"
        }
      ],
      "source": [
        "#Thus optimal value for k=2\n",
        "km = KMeans(n_clusters=2)\n",
        "km = km.fit(pca_2d)\n",
        "pca_2d.shape"
      ]
    },
    {
      "cell_type": "code",
      "execution_count": 17,
      "metadata": {
        "colab": {
          "base_uri": "https://localhost:8080/"
        },
        "id": "yOw1N36KTYa4",
        "outputId": "6ee2573d-a05a-4eaf-e42d-9d087ca4018d"
      },
      "outputs": [
        {
          "name": "stdout",
          "output_type": "stream",
          "text": [
            "[[ 0.1754501  -0.00351231]\n",
            " [-0.28835702  0.00577258]]\n"
          ]
        }
      ],
      "source": [
        "print(km.cluster_centers_)  "
      ]
    },
    {
      "cell_type": "code",
      "execution_count": 18,
      "metadata": {
        "colab": {
          "base_uri": "https://localhost:8080/",
          "height": 265
        },
        "id": "VOOCoqxyTb5j",
        "outputId": "cc13a8f3-8693-4ea9-9e41-e4fde8df3881"
      },
      "outputs": [
        {
          "data": {
            "image/png": "[encoded data removed]",
            "text/plain": [
              "<Figure size 432x288 with 1 Axes>"
            ]
          },
          "metadata": {
            "needs_background": "light"
          },
          "output_type": "display_data"
        }
      ],
      "source": [
        "#Plotting the data into two clusters\n",
        "\n",
        "for i in range(0, pca_2d.shape[0]):\n",
        "    if km.labels_[i] == 1:\n",
        "        c1 = plt.scatter(pca_2d[i,0],pca_2d[i,1],c='r',marker='+')\n",
        "    \n",
        "    elif km.labels_[i] == 0:\n",
        "        c2 = plt.scatter(pca_2d[i,0],pca_2d[i,1],c='g',marker='o')"
      ]
    },
    {
      "cell_type": "code",
      "execution_count": 19,
      "metadata": {
        "colab": {
          "base_uri": "https://localhost:8080/"
        },
        "id": "G_MquG6XTfSP",
        "outputId": "2ca2cd8a-960e-41f0-966d-9efd2060dd4e"
      },
      "outputs": [
        {
          "name": "stdout",
          "output_type": "stream",
          "text": [
            "0.485805535841022\n"
          ]
        }
      ],
      "source": [
        "#Checking predicted labels againest actual labels\n",
        "correct=0\n",
        "for i in range(0, pca_2d.shape[0]):\n",
        "    if km.labels_[i] == y[i]:\n",
        "        #print(km.labels_[i])\n",
        "        correct+=1\n",
        "\n",
        "print(correct/len(y))"
      ]
    }
  ],
  "metadata": {
    "colab": {
      "name": "Untitled3.ipynb",
      "provenance": []
    },
    "kernelspec": {
      "display_name": "Python 3",
      "language": "python",
      "name": "python3"
    },
    "language_info": {
      "codemirror_mode": {
        "name": "ipython",
        "version": 3
      },
      "file_extension": ".py",
      "mimetype": "text/x-python",
      "name": "python",
      "nbconvert_exporter": "python",
      "pygments_lexer": "ipython3",
      "version": "3.10.5"
    },
    "vscode": {
      "interpreter": {
        "hash": "369f2c481f4da34e4445cda3fffd2e751bd1c4d706f27375911949ba6bb62e1c"
      }
    }
  },
  "nbformat": 4,
  "nbformat_minor": 0
}
